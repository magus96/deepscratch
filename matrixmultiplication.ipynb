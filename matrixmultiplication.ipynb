{
  "nbformat": 4,
  "nbformat_minor": 0,
  "metadata": {
    "colab": {
      "name": "matrixmultiplication.ipynb",
      "version": "0.3.2",
      "provenance": []
    },
    "kernelspec": {
      "name": "python3",
      "display_name": "Python 3"
    },
    "accelerator": "GPU"
  },
  "cells": [
    {
      "cell_type": "code",
      "metadata": {
        "id": "igqwKQmSPEKm",
        "colab_type": "code",
        "colab": {}
      },
      "source": [
        "from pathlib import Path\n",
        "from IPython.core.debugger import set_trace\n",
        "from fastai import datasets\n",
        "import pickle,gzip,math,torch,matplotlib as mpl\n",
        "from torch import tensor\n",
        "import matplotlib.pyplot as plt\n",
        "mnist_url='http://deeplearning.net/data/mnist/mnist.pkl'"
      ],
      "execution_count": 0,
      "outputs": []
    },
    {
      "cell_type": "code",
      "metadata": {
        "id": "JrEWlW1WQarK",
        "colab_type": "code",
        "colab": {
          "base_uri": "https://localhost:8080/",
          "height": 35
        },
        "outputId": "7f7af85a-180c-42c5-efb1-ed31f9009b5c"
      },
      "source": [
        "path=datasets.download_data(mnist_url,ext='.gz');path"
      ],
      "execution_count": 2,
      "outputs": [
        {
          "output_type": "execute_result",
          "data": {
            "text/plain": [
              "PosixPath('/root/.fastai/data/mnist.pkl.gz')"
            ]
          },
          "metadata": {
            "tags": []
          },
          "execution_count": 2
        }
      ]
    },
    {
      "cell_type": "code",
      "metadata": {
        "id": "j-Uc4IiLQtsc",
        "colab_type": "code",
        "colab": {}
      },
      "source": [
        "with gzip.open(path,'rb') as f:\n",
        "  ((X_train,y_train),(X_test,y_test),_)=pickle.load(f,encoding='latin-1')"
      ],
      "execution_count": 0,
      "outputs": []
    },
    {
      "cell_type": "code",
      "metadata": {
        "id": "L5tJffmRRiNW",
        "colab_type": "code",
        "colab": {}
      },
      "source": [
        "X_train,y_train,X_test,y_test=map(tensor,(X_train,y_train,X_test,y_test))\n",
        "r,c=X_train.shape\n"
      ],
      "execution_count": 0,
      "outputs": []
    },
    {
      "cell_type": "code",
      "metadata": {
        "id": "sAnw5_KlSSsC",
        "colab_type": "code",
        "colab": {}
      },
      "source": [
        "assert r==y_train.shape[0]==50000\n"
      ],
      "execution_count": 0,
      "outputs": []
    },
    {
      "cell_type": "code",
      "metadata": {
        "id": "oLS7bNMKTM8B",
        "colab_type": "code",
        "colab": {}
      },
      "source": [
        "mpl.rcParams['image.cmap'] = 'gray'"
      ],
      "execution_count": 0,
      "outputs": []
    },
    {
      "cell_type": "code",
      "metadata": {
        "id": "62xWLHZVTXjH",
        "colab_type": "code",
        "colab": {}
      },
      "source": [
        "img=X_train[0]"
      ],
      "execution_count": 0,
      "outputs": []
    },
    {
      "cell_type": "code",
      "metadata": {
        "id": "KNJJUIskTaFR",
        "colab_type": "code",
        "colab": {
          "base_uri": "https://localhost:8080/",
          "height": 287
        },
        "outputId": "bd58dfe4-d68c-47c8-9869-dd56b8cf02f4"
      },
      "source": [
        "plt.imshow(img.view(28,28))"
      ],
      "execution_count": 8,
      "outputs": [
        {
          "output_type": "execute_result",
          "data": {
            "text/plain": [
              "<matplotlib.image.AxesImage at 0x7f9a9cb67550>"
            ]
          },
          "metadata": {
            "tags": []
          },
          "execution_count": 8
        },
        {
          "output_type": "display_data",
          "data": {
            "image/png": "[encoded data removed]",
            "text/plain": [
              "<Figure size 432x288 with 1 Axes>"
            ]
          },
          "metadata": {
            "tags": []
          }
        }
      ]
    },
    {
      "cell_type": "markdown",
      "metadata": {
        "id": "dPes_zMjU8L9",
        "colab_type": "text"
      },
      "source": [
        "Neural net\n"
      ]
    },
    {
      "cell_type": "code",
      "metadata": {
        "id": "Ok2m4R6LTchb",
        "colab_type": "code",
        "colab": {}
      },
      "source": [
        "weight=torch.randn(784,10)\n",
        "bias=torch.randn(10)"
      ],
      "execution_count": 0,
      "outputs": []
    },
    {
      "cell_type": "markdown",
      "metadata": {
        "id": "6nCLHHYEVGYC",
        "colab_type": "text"
      },
      "source": [
        "**Matrix multiplication**"
      ]
    },
    {
      "cell_type": "code",
      "metadata": {
        "id": "oi9WC3VEUZTP",
        "colab_type": "code",
        "colab": {}
      },
      "source": [
        "def matmul(a,b):\n",
        "  ar,ac=a.shape\n",
        "  br,bc=b.shape\n",
        "  assert ac==br\n",
        "  c=torch.zeros(ar,bc)\n",
        "  for i in range(ar):\n",
        "    for j in range(bc):\n",
        "      for k in range(br):\n",
        "        c[i,j]+= a[i,k]*b[k,j]\n",
        "        \n",
        "  return c      "
      ],
      "execution_count": 0,
      "outputs": []
    },
    {
      "cell_type": "code",
      "metadata": {
        "id": "Wx3iyLr_WVJi",
        "colab_type": "code",
        "colab": {}
      },
      "source": [
        "m1=X_test[:5]\n",
        "m2=weight"
      ],
      "execution_count": 0,
      "outputs": []
    },
    {
      "cell_type": "code",
      "metadata": {
        "id": "-X73nEOUWhi6",
        "colab_type": "code",
        "colab": {
          "base_uri": "https://localhost:8080/",
          "height": 233
        },
        "outputId": "bef1db0d-a805-477c-81f3-2ccb8368f3e0"
      },
      "source": [
        "%time matmul(m1,m2)"
      ],
      "execution_count": 21,
      "outputs": [
        {
          "output_type": "stream",
          "text": [
            "CPU times: user 959 ms, sys: 984 µs, total: 960 ms\n",
            "Wall time: 976 ms\n"
          ],
          "name": "stdout"
        },
        {
          "output_type": "execute_result",
          "data": {
            "text/plain": [
              "tensor([[  5.0123,  20.5425,   2.7420,  -5.8743,  -6.6065,   8.0194,  -8.1597,\n",
              "           3.3932,   7.5767,   7.2117],\n",
              "        [  8.8300,  15.6637,   0.0930,  -1.0178,  -1.3674,   5.7636,  -4.2349,\n",
              "           2.6263,   3.0513,  13.7753],\n",
              "        [ 15.0146,  17.7040,  11.0551,  10.8203,  -5.2706,   4.7759,   0.2618,\n",
              "           8.3086,  -4.6078,   6.9462],\n",
              "        [  2.1264,  14.5542,  -0.1604,  -4.3945,  -5.4458,   7.1246,  -3.0338,\n",
              "          -2.4407,   3.6220,  -6.5276],\n",
              "        [  6.6812,  23.1065,   5.0122,   2.0833, -15.4126,  13.2852,  -2.3363,\n",
              "           2.2350, -15.7016,  -6.4366]])"
            ]
          },
          "metadata": {
            "tags": []
          },
          "execution_count": 21
        }
      ]
    },
    {
      "cell_type": "markdown",
      "metadata": {
        "id": "e_aXgjyPW5H-",
        "colab_type": "text"
      },
      "source": [
        "**Elementwise operations**"
      ]
    },
    {
      "cell_type": "code",
      "metadata": {
        "id": "_v8_bWUZWm9n",
        "colab_type": "code",
        "colab": {}
      },
      "source": [
        "def matmul1(a,b):\n",
        "  ar,ac=a.shape\n",
        "  br,bc=b.shape\n",
        "  assert ac==br\n",
        "  c=torch.zeros(ar,bc)\n",
        "  for i in range(ar):\n",
        "    for j in range(bc):\n",
        "      c[i,j]=(a[i]*b[:,j]).sum()\n",
        "  \n",
        "  return c"
      ],
      "execution_count": 0,
      "outputs": []
    },
    {
      "cell_type": "code",
      "metadata": {
        "id": "qhYOjBO4XlTy",
        "colab_type": "code",
        "colab": {
          "base_uri": "https://localhost:8080/",
          "height": 233
        },
        "outputId": "3859e58f-a693-4b0f-aa87-0d1ef2c211ff"
      },
      "source": [
        "%time matmul1(m1,m2)"
      ],
      "execution_count": 23,
      "outputs": [
        {
          "output_type": "stream",
          "text": [
            "CPU times: user 1.79 ms, sys: 0 ns, total: 1.79 ms\n",
            "Wall time: 1.79 ms\n"
          ],
          "name": "stdout"
        },
        {
          "output_type": "execute_result",
          "data": {
            "text/plain": [
              "tensor([[  5.0123,  20.5425,   2.7420,  -5.8743,  -6.6065,   8.0194,  -8.1597,\n",
              "           3.3932,   7.5767,   7.2117],\n",
              "        [  8.8300,  15.6637,   0.0930,  -1.0178,  -1.3674,   5.7636,  -4.2348,\n",
              "           2.6263,   3.0513,  13.7753],\n",
              "        [ 15.0146,  17.7040,  11.0551,  10.8203,  -5.2706,   4.7759,   0.2618,\n",
              "           8.3086,  -4.6078,   6.9462],\n",
              "        [  2.1264,  14.5542,  -0.1604,  -4.3945,  -5.4458,   7.1246,  -3.0338,\n",
              "          -2.4407,   3.6220,  -6.5276],\n",
              "        [  6.6812,  23.1065,   5.0122,   2.0833, -15.4126,  13.2852,  -2.3363,\n",
              "           2.2350, -15.7016,  -6.4366]])"
            ]
          },
          "metadata": {
            "tags": []
          },
          "execution_count": 23
        }
      ]
    },
    {
      "cell_type": "markdown",
      "metadata": {
        "id": "tlo4_OhSYSWQ",
        "colab_type": "text"
      },
      "source": [
        "**Broadcasting**\n"
      ]
    },
    {
      "cell_type": "code",
      "metadata": {
        "id": "rg5U_p1dXs5d",
        "colab_type": "code",
        "colab": {}
      },
      "source": [
        "def matmul2(a,b):\n",
        "  ar,ac=a.shape\n",
        "  br,bc=b.shape\n",
        "  assert ac==br\n",
        "  c=torch.zeros(ar,bc)\n",
        "  for i in range(ar):\n",
        "    c[i]=(a[i].unsqueeze(-1)*b).sum(dim=0)\n",
        "    \n",
        "  return c  \n",
        "    "
      ],
      "execution_count": 0,
      "outputs": []
    },
    {
      "cell_type": "code",
      "metadata": {
        "id": "422HyxusZXbR",
        "colab_type": "code",
        "colab": {
          "base_uri": "https://localhost:8080/",
          "height": 233
        },
        "outputId": "d7e9b76d-590c-4a12-e57b-b92f104b8298"
      },
      "source": [
        "%time matmul2(m1,m2)"
      ],
      "execution_count": 27,
      "outputs": [
        {
          "output_type": "stream",
          "text": [
            "CPU times: user 0 ns, sys: 938 µs, total: 938 µs\n",
            "Wall time: 945 µs\n"
          ],
          "name": "stdout"
        },
        {
          "output_type": "execute_result",
          "data": {
            "text/plain": [
              "tensor([[  5.0123,  20.5425,   2.7420,  -5.8743,  -6.6065,   8.0194,  -8.1597,\n",
              "           3.3932,   7.5767,   7.2117],\n",
              "        [  8.8300,  15.6637,   0.0930,  -1.0178,  -1.3674,   5.7636,  -4.2349,\n",
              "           2.6263,   3.0513,  13.7753],\n",
              "        [ 15.0146,  17.7040,  11.0551,  10.8203,  -5.2706,   4.7759,   0.2618,\n",
              "           8.3086,  -4.6078,   6.9462],\n",
              "        [  2.1264,  14.5542,  -0.1604,  -4.3945,  -5.4458,   7.1246,  -3.0338,\n",
              "          -2.4407,   3.6220,  -6.5276],\n",
              "        [  6.6812,  23.1065,   5.0122,   2.0833, -15.4126,  13.2852,  -2.3363,\n",
              "           2.2350, -15.7016,  -6.4366]])"
            ]
          },
          "metadata": {
            "tags": []
          },
          "execution_count": 27
        }
      ]
    },
    {
      "cell_type": "markdown",
      "metadata": {
        "id": "K1pRwD9qZl5Y",
        "colab_type": "text"
      },
      "source": [
        "**Einstein** **summation**"
      ]
    },
    {
      "cell_type": "code",
      "metadata": {
        "id": "V2slA0SPZcT2",
        "colab_type": "code",
        "colab": {}
      },
      "source": [
        "def matmul3(a,b):\n",
        "  return torch.einsum('ik,kj->ij',a,b)\n"
      ],
      "execution_count": 0,
      "outputs": []
    },
    {
      "cell_type": "code",
      "metadata": {
        "id": "EWNqF7B4Z6hF",
        "colab_type": "code",
        "colab": {
          "base_uri": "https://localhost:8080/",
          "height": 233
        },
        "outputId": "f73cb922-30b8-4885-ab30-e83d9cc8c915"
      },
      "source": [
        "%time matmul3(m1,m2)"
      ],
      "execution_count": 40,
      "outputs": [
        {
          "output_type": "stream",
          "text": [
            "CPU times: user 775 µs, sys: 0 ns, total: 775 µs\n",
            "Wall time: 464 µs\n"
          ],
          "name": "stdout"
        },
        {
          "output_type": "execute_result",
          "data": {
            "text/plain": [
              "tensor([[  5.0123,  20.5425,   2.7420,  -5.8743,  -6.6065,   8.0194,  -8.1597,\n",
              "           3.3932,   7.5767,   7.2117],\n",
              "        [  8.8300,  15.6637,   0.0930,  -1.0178,  -1.3674,   5.7636,  -4.2349,\n",
              "           2.6263,   3.0513,  13.7753],\n",
              "        [ 15.0146,  17.7040,  11.0551,  10.8203,  -5.2706,   4.7759,   0.2618,\n",
              "           8.3086,  -4.6078,   6.9462],\n",
              "        [  2.1264,  14.5543,  -0.1604,  -4.3945,  -5.4458,   7.1246,  -3.0338,\n",
              "          -2.4407,   3.6220,  -6.5276],\n",
              "        [  6.6812,  23.1065,   5.0122,   2.0833, -15.4126,  13.2852,  -2.3363,\n",
              "           2.2350, -15.7016,  -6.4366]])"
            ]
          },
          "metadata": {
            "tags": []
          },
          "execution_count": 40
        }
      ]
    },
    {
      "cell_type": "markdown",
      "metadata": {
        "id": "Z6No5yW4anlH",
        "colab_type": "text"
      },
      "source": [
        "**PyTorch matrix multiplication**\n"
      ]
    },
    {
      "cell_type": "code",
      "metadata": {
        "id": "hfAPRh1YZ_dA",
        "colab_type": "code",
        "colab": {
          "base_uri": "https://localhost:8080/",
          "height": 233
        },
        "outputId": "5f73562e-feb6-42d2-fefa-318ae8570c8f"
      },
      "source": [
        "%time m1.matmul(m2)"
      ],
      "execution_count": 41,
      "outputs": [
        {
          "output_type": "stream",
          "text": [
            "CPU times: user 555 µs, sys: 0 ns, total: 555 µs\n",
            "Wall time: 369 µs\n"
          ],
          "name": "stdout"
        },
        {
          "output_type": "execute_result",
          "data": {
            "text/plain": [
              "tensor([[  5.0123,  20.5425,   2.7420,  -5.8743,  -6.6065,   8.0194,  -8.1597,\n",
              "           3.3932,   7.5767,   7.2117],\n",
              "        [  8.8300,  15.6637,   0.0930,  -1.0178,  -1.3674,   5.7636,  -4.2349,\n",
              "           2.6263,   3.0513,  13.7753],\n",
              "        [ 15.0146,  17.7040,  11.0551,  10.8203,  -5.2706,   4.7759,   0.2618,\n",
              "           8.3086,  -4.6078,   6.9462],\n",
              "        [  2.1264,  14.5543,  -0.1604,  -4.3945,  -5.4458,   7.1246,  -3.0338,\n",
              "          -2.4407,   3.6220,  -6.5276],\n",
              "        [  6.6812,  23.1065,   5.0122,   2.0833, -15.4126,  13.2852,  -2.3363,\n",
              "           2.2350, -15.7016,  -6.4366]])"
            ]
          },
          "metadata": {
            "tags": []
          },
          "execution_count": 41
        }
      ]
    },
    {
      "cell_type": "code",
      "metadata": {
        "id": "5hY4McU-axRe",
        "colab_type": "code",
        "colab": {}
      },
      "source": [
        "m3,m4  = m1.cuda(),m2.cuda()"
      ],
      "execution_count": 0,
      "outputs": []
    },
    {
      "cell_type": "code",
      "metadata": {
        "id": "pEMDCiX8bbpb",
        "colab_type": "code",
        "colab": {
          "base_uri": "https://localhost:8080/",
          "height": 233
        },
        "outputId": "fa1e1b62-64f7-4b07-9063-d4a6d137f846"
      },
      "source": [
        "%time m3.matmul(m4)"
      ],
      "execution_count": 45,
      "outputs": [
        {
          "output_type": "stream",
          "text": [
            "CPU times: user 0 ns, sys: 494 µs, total: 494 µs\n",
            "Wall time: 275 µs\n"
          ],
          "name": "stdout"
        },
        {
          "output_type": "execute_result",
          "data": {
            "text/plain": [
              "tensor([[  5.0123,  20.5425,   2.7420,  -5.8743,  -6.6065,   8.0194,  -8.1597,\n",
              "           3.3932,   7.5767,   7.2117],\n",
              "        [  8.8300,  15.6637,   0.0930,  -1.0178,  -1.3674,   5.7636,  -4.2349,\n",
              "           2.6263,   3.0513,  13.7753],\n",
              "        [ 15.0146,  17.7040,  11.0551,  10.8203,  -5.2706,   4.7759,   0.2618,\n",
              "           8.3086,  -4.6078,   6.9462],\n",
              "        [  2.1264,  14.5542,  -0.1604,  -4.3945,  -5.4458,   7.1245,  -3.0338,\n",
              "          -2.4407,   3.6220,  -6.5276],\n",
              "        [  6.6812,  23.1065,   5.0122,   2.0833, -15.4126,  13.2852,  -2.3363,\n",
              "           2.2350, -15.7016,  -6.4366]], device='cuda:0')"
            ]
          },
          "metadata": {
            "tags": []
          },
          "execution_count": 45
        }
      ]
    },
    {
      "cell_type": "markdown",
      "metadata": {
        "id": "_yrIMxMmbqEP",
        "colab_type": "text"
      },
      "source": [
        "Normal matrix multiplication-976 ms\n",
        "Elementwise ops-1.79 ms\n",
        "Broadcasting-945 us\n",
        "Einstein summation-464 us (can be improved)\n",
        "Pytorch-369 us\n",
        "with cuda-275 us"
      ]
    },
    {
      "cell_type": "code",
      "metadata": {
        "id": "K_D0ndT_bim8",
        "colab_type": "code",
        "colab": {}
      },
      "source": [
        ""
      ],
      "execution_count": 0,
      "outputs": []
    }
  ]
}